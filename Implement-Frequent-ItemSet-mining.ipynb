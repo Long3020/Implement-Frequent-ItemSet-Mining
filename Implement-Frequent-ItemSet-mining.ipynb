{
 "cells": [
  {
   "cell_type": "code",
   "execution_count": 1,
   "id": "6fead68c-07ec-4bb3-b98e-c6f225c99e7f",
   "metadata": {},
   "outputs": [
    {
     "ename": "FileNotFoundError",
     "evalue": "[Errno 2] No such file or directory: 'SuperCenterDataNew.csv'",
     "output_type": "error",
     "traceback": [
      "\u001b[1;31m---------------------------------------------------------------------------\u001b[0m",
      "\u001b[1;31mFileNotFoundError\u001b[0m                         Traceback (most recent call last)",
      "Cell \u001b[1;32mIn[1], line 9\u001b[0m\n\u001b[0;32m      6\u001b[0m \u001b[38;5;66;03m# Create a Counter to store occurrences\u001b[39;00m\n\u001b[0;32m      7\u001b[0m data_counter \u001b[38;5;241m=\u001b[39m Counter()\n\u001b[1;32m----> 9\u001b[0m \u001b[38;5;28;01mwith\u001b[39;00m \u001b[38;5;28;43mopen\u001b[39;49m\u001b[43m(\u001b[49m\u001b[43mfile_path\u001b[49m\u001b[43m,\u001b[49m\u001b[43m \u001b[49m\u001b[38;5;124;43m'\u001b[39;49m\u001b[38;5;124;43mr\u001b[39;49m\u001b[38;5;124;43m'\u001b[39;49m\u001b[43m)\u001b[49m \u001b[38;5;28;01mas\u001b[39;00m csv_file:\n\u001b[0;32m     10\u001b[0m     reader \u001b[38;5;241m=\u001b[39m csv\u001b[38;5;241m.\u001b[39mreader(csv_file, delimiter\u001b[38;5;241m=\u001b[39m\u001b[38;5;124m'\u001b[39m\u001b[38;5;124m,\u001b[39m\u001b[38;5;124m'\u001b[39m)\n\u001b[0;32m     12\u001b[0m     \u001b[38;5;66;03m# Iterate through rows and count occurrences\u001b[39;00m\n",
      "File \u001b[1;32m~\\AppData\\Local\\Programs\\Python\\Python312\\Lib\\site-packages\\IPython\\core\\interactiveshell.py:324\u001b[0m, in \u001b[0;36m_modified_open\u001b[1;34m(file, *args, **kwargs)\u001b[0m\n\u001b[0;32m    317\u001b[0m \u001b[38;5;28;01mif\u001b[39;00m file \u001b[38;5;129;01min\u001b[39;00m {\u001b[38;5;241m0\u001b[39m, \u001b[38;5;241m1\u001b[39m, \u001b[38;5;241m2\u001b[39m}:\n\u001b[0;32m    318\u001b[0m     \u001b[38;5;28;01mraise\u001b[39;00m \u001b[38;5;167;01mValueError\u001b[39;00m(\n\u001b[0;32m    319\u001b[0m         \u001b[38;5;124mf\u001b[39m\u001b[38;5;124m\"\u001b[39m\u001b[38;5;124mIPython won\u001b[39m\u001b[38;5;124m'\u001b[39m\u001b[38;5;124mt let you open fd=\u001b[39m\u001b[38;5;132;01m{\u001b[39;00mfile\u001b[38;5;132;01m}\u001b[39;00m\u001b[38;5;124m by default \u001b[39m\u001b[38;5;124m\"\u001b[39m\n\u001b[0;32m    320\u001b[0m         \u001b[38;5;124m\"\u001b[39m\u001b[38;5;124mas it is likely to crash IPython. If you know what you are doing, \u001b[39m\u001b[38;5;124m\"\u001b[39m\n\u001b[0;32m    321\u001b[0m         \u001b[38;5;124m\"\u001b[39m\u001b[38;5;124myou can use builtins\u001b[39m\u001b[38;5;124m'\u001b[39m\u001b[38;5;124m open.\u001b[39m\u001b[38;5;124m\"\u001b[39m\n\u001b[0;32m    322\u001b[0m     )\n\u001b[1;32m--> 324\u001b[0m \u001b[38;5;28;01mreturn\u001b[39;00m \u001b[43mio_open\u001b[49m\u001b[43m(\u001b[49m\u001b[43mfile\u001b[49m\u001b[43m,\u001b[49m\u001b[43m \u001b[49m\u001b[38;5;241;43m*\u001b[39;49m\u001b[43margs\u001b[49m\u001b[43m,\u001b[49m\u001b[43m \u001b[49m\u001b[38;5;241;43m*\u001b[39;49m\u001b[38;5;241;43m*\u001b[39;49m\u001b[43mkwargs\u001b[49m\u001b[43m)\u001b[49m\n",
      "\u001b[1;31mFileNotFoundError\u001b[0m: [Errno 2] No such file or directory: 'SuperCenterDataNew.csv'"
     ]
    }
   ],
   "source": [
    "import csv\n",
    "from collections import Counter\n",
    "\n",
    "file_path = \"SuperCenterDataNew.csv\"\n",
    "\n",
    "# Create a Counter to store occurrences\n",
    "data_counter = Counter()\n",
    "\n",
    "with open(file_path, 'r') as csv_file:\n",
    "    reader = csv.reader(csv_file, delimiter=',')\n",
    "\n",
    "    # Iterate through rows and count occurrences\n",
    "    for row in reader:\n",
    "        data_counter.update(value for value in row if value != '')\n",
    "\n",
    "# Take Absolute support as input\n",
    "absolute_support = int(input(\"Enter Absolute Support (3 to 10): \"))\n",
    "\n",
    "# Save the counts that meet the Absolute support condition and the Absolute support to a new file\n",
    "output_file_path = \"Frequent_item_set_of_size_1.csv\"\n",
    "with open(output_file_path, 'w', newline='') as output_file:\n",
    "    writer = csv.writer(output_file)\n",
    "    \n",
    "    # Write the header\n",
    "    writer.writerow([\"Value\", \"Count\"])\n",
    "\n",
    "    # Write the counts that meet the Absolute support condition\n",
    "    for value, count in data_counter.items():\n",
    "        if count >= absolute_support:\n",
    "            writer.writerow([value, count])\n",
    "\n",
    "    # Write the Absolute support\n",
    "    writer.writerow([\"Absolute Support\", absolute_support])\n",
    "\n",
    "print(f\"Output saved to: {output_file_path}\")\n"
   ]
  },
  {
   "cell_type": "code",
   "execution_count": 21,
   "id": "6b9a2cac",
   "metadata": {},
   "outputs": [
    {
     "name": "stdout",
     "output_type": "stream",
     "text": [
      "Output saved to: Frequent_item_set_of_size_2.csv\n"
     ]
    }
   ],
   "source": [
    "import csv\n",
    "from collections import Counter\n",
    "from itertools import combinations\n",
    "\n",
    "file_path = \"SuperCenterDataNew.csv\"\n",
    "\n",
    "# Create a Counter to store occurrences of pairs\n",
    "data_counter = Counter()\n",
    "\n",
    "with open(file_path, 'r') as csv_file:\n",
    "    reader = csv.reader(csv_file, delimiter=',')\n",
    "\n",
    "    # Iterate through rows and count occurrences of pairs\n",
    "    for row in reader:\n",
    "        values = [value for value in row if value != '']\n",
    "        data_counter.update(combinations(values, 2))\n",
    "\n",
    "# Read the absolute support from the Frequent_item_set_of_size_1.csv file\n",
    "absolute_support_file = \"Frequent_item_set_of_size_1.csv\"\n",
    "with open(absolute_support_file, 'r') as support_file:\n",
    "    support_reader = csv.reader(support_file)\n",
    "    for row in support_reader:\n",
    "        if row[0] == \"Absolute Support\":\n",
    "            absolute_support = int(row[1])\n",
    "            break\n",
    "    else:\n",
    "        raise ValueError(\"Absolute Support not found in the file.\")\n",
    "\n",
    "# Save the counts that meet the Absolute support condition and the Absolute support to a new file\n",
    "output_file_path = \"Frequent_item_set_of_size_2.csv\"\n",
    "with open(output_file_path, 'w', newline='') as output_file:\n",
    "    writer = csv.writer(output_file)\n",
    "\n",
    "    # Write the header\n",
    "    writer.writerow([\"Value1\", \"Value2\", \"Count\"])\n",
    "\n",
    "    # Write the counts that meet the Absolute support condition\n",
    "    for (value1, value2), count in data_counter.items():\n",
    "        if count >= absolute_support:\n",
    "            writer.writerow([value1, value2, count])\n",
    "\n",
    "    # Write the Absolute support\n",
    "    writer.writerow([\"Absolute Support\", absolute_support])\n",
    "\n",
    "print(f\"Output saved to: {output_file_path}\")\n",
    "\n"
   ]
  },
  {
   "cell_type": "code",
   "execution_count": 25,
   "id": "7260868c",
   "metadata": {},
   "outputs": [
    {
     "name": "stdout",
     "output_type": "stream",
     "text": [
      "Unique data (including the last row and excluding duplicates) and Absolute Support saved to: Item set 2.csv\n"
     ]
    }
   ],
   "source": [
    "import csv\n",
    "\n",
    "# Read data from \"Frequent_item_set_of_size_2.csv\" excluding the last row\n",
    "input_file_path = \"Frequent_item_set_of_size_2.csv\"\n",
    "data_set = set()\n",
    "absolute_support = None\n",
    "\n",
    "with open(input_file_path, 'r') as input_file:\n",
    "    reader = csv.reader(input_file)\n",
    "    header = next(reader)  # Skip the header row\n",
    "    for row in reader:\n",
    "        if row[0] == \"Absolute Support\":\n",
    "            absolute_support = row[1]  # Save the Absolute Support\n",
    "            continue  # Skip the last row (Absolute Support)\n",
    "        if len(row) >= 2:  # Check if the row has at least two values\n",
    "            value1, value2 = row[:2]\n",
    "            data_set.add(value1)\n",
    "            data_set.add(value2)\n",
    "\n",
    "# Save unique data (including the last row and excluding duplicates) to \"Item set 2.csv\"\n",
    "output_file_path = \"Item set 2.csv\"\n",
    "with open(output_file_path, 'w', newline='') as output_file:\n",
    "    writer = csv.writer(output_file)\n",
    "\n",
    "    # Write the header\n",
    "    writer.writerow([\"Values\"])\n",
    "\n",
    "    # Write the unique combined data including the last row (Absolute Support)\n",
    "    for unique_value in data_set:\n",
    "        writer.writerow([unique_value])\n",
    "\n",
    "print(f\"Unique data (including the last row and excluding duplicates) and Absolute Support saved to: {output_file_path}\")\n"
   ]
  },
  {
   "cell_type": "code",
   "execution_count": 23,
   "id": "0f4db9b9",
   "metadata": {},
   "outputs": [
    {
     "name": "stdout",
     "output_type": "stream",
     "text": [
      "Output saved to: Frequent_item_set_of_size_3.csv\n"
     ]
    }
   ],
   "source": [
    "import csv\n",
    "from collections import Counter\n",
    "from itertools import combinations\n",
    "\n",
    "file_path = \"SuperCenterDataNew.csv\"\n",
    "\n",
    "# Create a Counter to store occurrences of triplets\n",
    "data_counter = Counter()\n",
    "\n",
    "with open(file_path, 'r') as csv_file:\n",
    "    reader = csv.reader(csv_file, delimiter=',')\n",
    "\n",
    "    # Iterate through rows and count occurrences of triplets\n",
    "    for row in reader:\n",
    "        values = [value for value in row if value != '']\n",
    "        data_counter.update(combinations(values, 3))\n",
    "\n",
    "# Read the absolute support from the Frequent_item_set_of_size_1.csv file\n",
    "absolute_support_file = \"Frequent_item_set_of_size_1.csv\"\n",
    "with open(absolute_support_file, 'r') as support_file:\n",
    "    support_reader = csv.reader(support_file)\n",
    "    for row in support_reader:\n",
    "        if row[0] == \"Absolute Support\":\n",
    "            absolute_support = int(row[1])\n",
    "            break\n",
    "    else:\n",
    "        raise ValueError(\"Absolute Support not found in the file.\")\n",
    "\n",
    "# Save the counts that meet the Absolute support condition and the Absolute support to a new file\n",
    "output_file_path = \"Frequent_item_set_of_size_3.csv\"\n",
    "with open(output_file_path, 'w', newline='') as output_file:\n",
    "    writer = csv.writer(output_file)\n",
    "\n",
    "    # Write the header\n",
    "    writer.writerow([\"Value1\", \"Value2\", \"Value3\", \"Count\"])\n",
    "\n",
    "    # Write the counts that meet the Absolute support condition\n",
    "    for (value1, value2, value3), count in data_counter.items():\n",
    "        if count >= absolute_support:\n",
    "            writer.writerow([value1, value2, value3, count])\n",
    "\n",
    "    # Write the Absolute support\n",
    "    writer.writerow([\"Absolute Support\", absolute_support])\n",
    "\n",
    "print(f\"Output saved to: {output_file_path}\")\n"
   ]
  },
  {
   "cell_type": "code",
   "execution_count": 24,
   "id": "d18a3a9d",
   "metadata": {},
   "outputs": [
    {
     "name": "stdout",
     "output_type": "stream",
     "text": [
      "Unique data (excluding the last row and duplicates) saved to: Item set 3.csv\n"
     ]
    }
   ],
   "source": [
    "import csv\n",
    "\n",
    "# Read data from \"Frequent_item_set_of_size_3.csv\" excluding the last row\n",
    "input_file_path = \"Frequent_item_set_of_size_3.csv\"\n",
    "data_set = set()\n",
    "\n",
    "with open(input_file_path, 'r') as input_file:\n",
    "    reader = csv.reader(input_file)\n",
    "    header = next(reader)  # Skip the header row\n",
    "    for row in reader:\n",
    "        if row[0] == \"Absolute Support\":\n",
    "            continue  # Skip the last row (Absolute Support)\n",
    "        if len(row) >= 3:  # Check if the row has at least three values\n",
    "            value1, value2, value3 = row[:3]\n",
    "            data_set.add(value1)\n",
    "            data_set.add(value2)\n",
    "            data_set.add(value3)\n",
    "\n",
    "# Save unique data (excluding the last row and duplicates) to \"Item set 3.csv\"\n",
    "output_file_path = \"Item set 3.csv\"\n",
    "with open(output_file_path, 'w', newline='') as output_file:\n",
    "    writer = csv.writer(output_file)\n",
    "\n",
    "    # Write the header\n",
    "    writer.writerow([\"Values\"])\n",
    "\n",
    "    # Write the unique combined data excluding the last row (Absolute Support)\n",
    "    for unique_value in data_set:\n",
    "        writer.writerow([unique_value])\n",
    "\n",
    "print(f\"Unique data (excluding the last row and duplicates) saved to: {output_file_path}\")\n"
   ]
  },
  {
   "cell_type": "code",
   "execution_count": 26,
   "id": "26e452c6",
   "metadata": {},
   "outputs": [
    {
     "name": "stdout",
     "output_type": "stream",
     "text": [
      "Output saved to: Frequent_item_set_of_size_4.csv\n"
     ]
    }
   ],
   "source": [
    "import csv\n",
    "from collections import Counter\n",
    "from itertools import combinations\n",
    "\n",
    "file_path = \"SuperCenterDataNew.csv\"\n",
    "\n",
    "# Create a Counter to store occurrences of quadruplets\n",
    "data_counter = Counter()\n",
    "\n",
    "with open(file_path, 'r') as csv_file:\n",
    "    reader = csv.reader(csv_file, delimiter=',')\n",
    "\n",
    "    # Iterate through rows and count occurrences of quadruplets\n",
    "    for row in reader:\n",
    "        values = [value for value in row if value != '']\n",
    "        data_counter.update(combinations(values, 4))\n",
    "\n",
    "# Read the absolute support from the Frequent_item_set_of_size_1.csv file\n",
    "absolute_support_file = \"Frequent_item_set_of_size_1.csv\"\n",
    "with open(absolute_support_file, 'r') as support_file:\n",
    "    support_reader = csv.reader(support_file)\n",
    "    for row in support_reader:\n",
    "        if row[0] == \"Absolute Support\":\n",
    "            absolute_support = int(row[1])\n",
    "            break\n",
    "    else:\n",
    "        raise ValueError(\"Absolute Support not found in the file.\")\n",
    "\n",
    "# Save the counts that meet the Absolute support condition and the Absolute support to a new file\n",
    "output_file_path = \"Frequent_item_set_of_size_4.csv\"\n",
    "with open(output_file_path, 'w', newline='') as output_file:\n",
    "    writer = csv.writer(output_file)\n",
    "\n",
    "    # Write the header\n",
    "    writer.writerow([\"Value1\", \"Value2\", \"Value3\", \"Value4\", \"Count\"])\n",
    "\n",
    "    # Write the counts that meet the Absolute support condition\n",
    "    for (value1, value2, value3, value4), count in data_counter.items():\n",
    "        if count >= absolute_support:\n",
    "            writer.writerow([value1, value2, value3, value4, count])\n",
    "\n",
    "    # Write the Absolute support\n",
    "    writer.writerow([\"Absolute Support\", absolute_support])\n",
    "\n",
    "print(f\"Output saved to: {output_file_path}\")\n"
   ]
  },
  {
   "cell_type": "code",
   "execution_count": 27,
   "id": "f9e8572a",
   "metadata": {},
   "outputs": [
    {
     "name": "stdout",
     "output_type": "stream",
     "text": [
      "Unique data (excluding the last row and duplicates) saved to: Item set 4.csv\n"
     ]
    }
   ],
   "source": [
    "import csv\n",
    "\n",
    "# Read data from \"Frequent_item_set_of_size_4.csv\" excluding the last row\n",
    "input_file_path = \"Frequent_item_set_of_size_4.csv\"\n",
    "data_set = set()\n",
    "\n",
    "with open(input_file_path, 'r') as input_file:\n",
    "    reader = csv.reader(input_file)\n",
    "    header = next(reader)  # Skip the header row\n",
    "    for row in reader:\n",
    "        if row[0] == \"Absolute Support\":\n",
    "            continue  # Skip the last row (Absolute Support)\n",
    "        if len(row) >= 4:  # Check if the row has at least four values\n",
    "            value1, value2, value3, value4 = row[:4]\n",
    "            data_set.add(value1)\n",
    "            data_set.add(value2)\n",
    "            data_set.add(value3)\n",
    "            data_set.add(value4)\n",
    "\n",
    "# Save unique data (excluding the last row and duplicates) to \"Item set 4.csv\"\n",
    "output_file_path = \"Item set 4.csv\"\n",
    "with open(output_file_path, 'w', newline='') as output_file:\n",
    "    writer = csv.writer(output_file)\n",
    "\n",
    "    # Write the header\n",
    "    writer.writerow([\"Values\"])\n",
    "\n",
    "    # Write the unique combined data excluding the last row (Absolute Support)\n",
    "    for unique_value in data_set:\n",
    "        writer.writerow([unique_value])\n",
    "\n",
    "print(f\"Unique data (excluding the last row and duplicates) saved to: {output_file_path}\")\n"
   ]
  },
  {
   "cell_type": "code",
   "execution_count": null,
   "id": "662b0b37",
   "metadata": {},
   "outputs": [],
   "source": []
  }
 ],
 "metadata": {
  "kernelspec": {
   "display_name": "Python 3 (ipykernel)",
   "language": "python",
   "name": "python3"
  },
  "language_info": {
   "codemirror_mode": {
    "name": "ipython",
    "version": 3
   },
   "file_extension": ".py",
   "mimetype": "text/x-python",
   "name": "python",
   "nbconvert_exporter": "python",
   "pygments_lexer": "ipython3",
   "version": "3.12.6"
  }
 },
 "nbformat": 4,
 "nbformat_minor": 5
}
